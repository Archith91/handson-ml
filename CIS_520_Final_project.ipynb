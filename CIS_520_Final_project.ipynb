{
  "nbformat": 4,
  "nbformat_minor": 0,
  "metadata": {
    "colab": {
      "name": "CIS_520_Final_project.ipynb",
      "provenance": [],
      "collapsed_sections": [],
      "toc_visible": true,
      "mount_file_id": "1WBvUt3DPoNQgUAy6_aWgbgeorcbyflQp",
      "authorship_tag": "ABX9TyOYYThpK9tPmDKsllruN5h2",
      "include_colab_link": true
    },
    "kernelspec": {
      "name": "python3",
      "display_name": "Python 3"
    }
  },
  "cells": [
    {
      "cell_type": "markdown",
      "metadata": {
        "id": "view-in-github",
        "colab_type": "text"
      },
      "source": [
        "<a href=\"https://colab.research.google.com/github/Archith91/handson-ml/blob/master/CIS_520_Final_project.ipynb\" target=\"_parent\"><img src=\"https://colab.research.google.com/assets/colab-badge.svg\" alt=\"Open In Colab\"/></a>"
      ]
    },
    {
      "cell_type": "markdown",
      "metadata": {
        "id": "I8thpn-2mwzv"
      },
      "source": [
        "#CIS 520 Project"
      ]
    },
    {
      "cell_type": "markdown",
      "metadata": {
        "id": "vWDnXMm49mMl"
      },
      "source": [
        "#1 Libraries and setup"
      ]
    },
    {
      "cell_type": "markdown",
      "metadata": {
        "id": "CY-6G9wanBK5"
      },
      "source": [
        "###1.1 Importing packages"
      ]
    },
    {
      "cell_type": "code",
      "metadata": {
        "id": "wTDrSGzNmxK-"
      },
      "source": [
        "import pandas as pd\n",
        "import numpy as np\n",
        "from imblearn.over_sampling import RandomOverSampler\n",
        "from sklearn.model_selection import train_test_split\n",
        "from sklearn.linear_model import LogisticRegression\n",
        "from sklearn.ensemble import RandomForestClassifier\n",
        "from sklearn.ensemble import GradientBoostingClassifier\n",
        "from sklearn import metrics\n",
        "from sklearn.decomposition import PCA\n",
        "from sklearn.preprocessing import StandardScaler\n",
        "import matplotlib.pyplot as plt\n",
        "from matplotlib.colors import ListedColormap\n",
        "import seaborn as sns"
      ],
      "execution_count": null,
      "outputs": []
    },
    {
      "cell_type": "markdown",
      "metadata": {
        "id": "RoOJitiXnNsL"
      },
      "source": [
        "###1.2 Loading and parsing data"
      ]
    },
    {
      "cell_type": "code",
      "metadata": {
        "id": "i7Q7d8w8DA1K"
      },
      "source": [
        "path = '/content/drive/MyDrive/CIS 520/CIS 520 Final Project/Datasets/train.json'\n",
        "data_df = pd.read_json(path)"
      ],
      "execution_count": null,
      "outputs": []
    },
    {
      "cell_type": "code",
      "metadata": {
        "id": "Glo4yFhvDDpB"
      },
      "source": [
        "uuid = []\n",
        "category = []\n",
        "title = []\n",
        "title_len = []\n",
        "description = []\n",
        "description_len = []\n",
        "listed_price = []\n",
        "image_file = []\n",
        "image_indicator = []\n",
        "num_messages = []\n",
        "outcome = []\n",
        "final_price = []\n",
        "for i in range(len(data_df)):\n",
        "  uuid.append(str(data_df['uuid'][i]))\n",
        "  category.append(str(data_df['scenario'][i]['category']))\n",
        "  kbs_len = len(data_df['scenario'][i]['kbs'])\n",
        "  title.append(str(data_df['scenario'][i]['kbs'][kbs_len - 1]['item']['Title']))\n",
        "  title_len.append(len(data_df['scenario'][i]['kbs'][kbs_len - 1]['item']['Title']))\n",
        "  description.append('. '.join(map(str, data_df['scenario'][i]['kbs'][kbs_len - 1]['item']['Description'])))\n",
        "  description_len.append(len('. '.join(map(str, data_df['scenario'][i]['kbs'][kbs_len - 1]['item']['Description']))))\n",
        "  listed_price.append(data_df['scenario'][i]['kbs'][kbs_len - 1]['item']['Price'])\n",
        "  image_file.append(str(data_df['scenario'][i]['kbs'][kbs_len - 1]['item']['Images'])[1:-1])\n",
        "  if (data_df['scenario'][i]['kbs'][kbs_len - 1]['item']['Images'] == []):\n",
        "    image_indicator.append(0)\n",
        "  else:\n",
        "    image_indicator.append(1)\n",
        "  num_messages.append(len(data_df['events'][i])-2)\n",
        "  outcome.append(data_df['outcome'][i]['reward'])\n",
        "  if (data_df['outcome'][i]['reward']==1):\n",
        "    final_price.append(data_df['outcome'][i]['offer']['price'])\n",
        "  else:\n",
        "    final_price.append('na')"
      ],
      "execution_count": null,
      "outputs": []
    },
    {
      "cell_type": "code",
      "metadata": {
        "colab": {
          "base_uri": "https://localhost:8080/",
          "height": 473
        },
        "id": "8xvBA8gIYy29",
        "outputId": "a897ca31-2623-425a-c324-e23d9bac8760"
      },
      "source": [
        "zippedList =  list(zip(uuid, category, title, title_len, description, description_len, listed_price, image_file, image_indicator, num_messages, outcome, final_price))\n",
        "index = range(len(data_df))\n",
        "cleaned_data_df = pd.DataFrame(zippedList, columns = ['UUID', 'Category', 'Title', 'Title_len', 'Description', 'Description_len', 'Listed_price', 'Image_file', 'Image_indicator', 'Num_messages', 'Outcome', 'Final_price'], index=index)\n",
        "cleaned_data_df.set_index('UUID',inplace=True)\n",
        "cleaned_data_df[0:5]"
      ],
      "execution_count": null,
      "outputs": [
        {
          "output_type": "execute_result",
          "data": {
            "text/html": [
              "<div>\n",
              "<style scoped>\n",
              "    .dataframe tbody tr th:only-of-type {\n",
              "        vertical-align: middle;\n",
              "    }\n",
              "\n",
              "    .dataframe tbody tr th {\n",
              "        vertical-align: top;\n",
              "    }\n",
              "\n",
              "    .dataframe thead th {\n",
              "        text-align: right;\n",
              "    }\n",
              "</style>\n",
              "<table border=\"1\" class=\"dataframe\">\n",
              "  <thead>\n",
              "    <tr style=\"text-align: right;\">\n",
              "      <th></th>\n",
              "      <th>Category</th>\n",
              "      <th>Title</th>\n",
              "      <th>Title_len</th>\n",
              "      <th>Description</th>\n",
              "      <th>Description_len</th>\n",
              "      <th>Listed_price</th>\n",
              "      <th>Image_file</th>\n",
              "      <th>Image_indicator</th>\n",
              "      <th>Num_messages</th>\n",
              "      <th>Outcome</th>\n",
              "      <th>Final_price</th>\n",
              "    </tr>\n",
              "    <tr>\n",
              "      <th>UUID</th>\n",
              "      <th></th>\n",
              "      <th></th>\n",
              "      <th></th>\n",
              "      <th></th>\n",
              "      <th></th>\n",
              "      <th></th>\n",
              "      <th></th>\n",
              "      <th></th>\n",
              "      <th></th>\n",
              "      <th></th>\n",
              "      <th></th>\n",
              "    </tr>\n",
              "  </thead>\n",
              "  <tbody>\n",
              "    <tr>\n",
              "      <th>C_fe3d143826f44a8db1072188f5345e8a</th>\n",
              "      <td>phone</td>\n",
              "      <td>Verizon Car Charger with Dual Output Micro USB...</td>\n",
              "      <td>60</td>\n",
              "      <td>Charge two devices simultaneously on the go. T...</td>\n",
              "      <td>520</td>\n",
              "      <td>10</td>\n",
              "      <td>'phone/6149527852_0.jpg'</td>\n",
              "      <td>1</td>\n",
              "      <td>7</td>\n",
              "      <td>1</td>\n",
              "      <td>7</td>\n",
              "    </tr>\n",
              "    <tr>\n",
              "      <th>C_4566b2e6938a4a6a8e714e799d780e71</th>\n",
              "      <td>bike</td>\n",
              "      <td>Long board custom bilt from the board up</td>\n",
              "      <td>40</td>\n",
              "      <td>Hey there cl I have a long board for sale pret...</td>\n",
              "      <td>316</td>\n",
              "      <td>200</td>\n",
              "      <td>'bike/6151236842_0.jpg'</td>\n",
              "      <td>1</td>\n",
              "      <td>11</td>\n",
              "      <td>1</td>\n",
              "      <td>145</td>\n",
              "    </tr>\n",
              "    <tr>\n",
              "      <th>C_f82ff19f74094889873c8acc58ee582f</th>\n",
              "      <td>housing</td>\n",
              "      <td>A 4 bedroom single family house for rent in ce...</td>\n",
              "      <td>59</td>\n",
              "      <td>This is a single family house in an excellent ...</td>\n",
              "      <td>706</td>\n",
              "      <td>3200</td>\n",
              "      <td></td>\n",
              "      <td>0</td>\n",
              "      <td>8</td>\n",
              "      <td>1</td>\n",
              "      <td>1900</td>\n",
              "    </tr>\n",
              "    <tr>\n",
              "      <th>C_15d928e7d3db4380a9d6a9a5e83fcd09</th>\n",
              "      <td>furniture</td>\n",
              "      <td>Sectional Couch</td>\n",
              "      <td>15</td>\n",
              "      <td>I am remodeling my space and selling a beautif...</td>\n",
              "      <td>357</td>\n",
              "      <td>585</td>\n",
              "      <td>'furniture/6131245434_0.jpg'</td>\n",
              "      <td>1</td>\n",
              "      <td>4</td>\n",
              "      <td>0</td>\n",
              "      <td>na</td>\n",
              "    </tr>\n",
              "    <tr>\n",
              "      <th>C_c4e882c43dd746ad994226df5cc24eb7</th>\n",
              "      <td>furniture</td>\n",
              "      <td>Beautiful Cherry Hutch</td>\n",
              "      <td>22</td>\n",
              "      <td>MUST SEE!!!. Like new ! - making space in our ...</td>\n",
              "      <td>252</td>\n",
              "      <td>1000</td>\n",
              "      <td>'furniture/6144504669_0.jpg'</td>\n",
              "      <td>1</td>\n",
              "      <td>2</td>\n",
              "      <td>0</td>\n",
              "      <td>na</td>\n",
              "    </tr>\n",
              "  </tbody>\n",
              "</table>\n",
              "</div>"
            ],
            "text/plain": [
              "                                     Category  ... Final_price\n",
              "UUID                                           ...            \n",
              "C_fe3d143826f44a8db1072188f5345e8a      phone  ...           7\n",
              "C_4566b2e6938a4a6a8e714e799d780e71       bike  ...         145\n",
              "C_f82ff19f74094889873c8acc58ee582f    housing  ...        1900\n",
              "C_15d928e7d3db4380a9d6a9a5e83fcd09  furniture  ...          na\n",
              "C_c4e882c43dd746ad994226df5cc24eb7  furniture  ...          na\n",
              "\n",
              "[5 rows x 11 columns]"
            ]
          },
          "metadata": {
            "tags": []
          },
          "execution_count": 5
        }
      ]
    },
    {
      "cell_type": "markdown",
      "metadata": {
        "id": "zKiJ3CZwnfSF"
      },
      "source": [
        "#2 EDA and Feature engineering"
      ]
    },
    {
      "cell_type": "markdown",
      "metadata": {
        "id": "J4P9skvDs3js"
      },
      "source": [
        "###2.1 One-hot encoding categories"
      ]
    },
    {
      "cell_type": "code",
      "metadata": {
        "colab": {
          "base_uri": "https://localhost:8080/",
          "height": 450
        },
        "id": "MnKctZzanjX8",
        "outputId": "80ace4d2-de11-48e9-c5a8-4273f4116a46"
      },
      "source": [
        "cleaned_data_df.Category = cleaned_data_df.Category.astype('category')\n",
        "categories_onehot = pd.get_dummies(cleaned_data_df['Category'])\n",
        "categories_onehot"
      ],
      "execution_count": null,
      "outputs": [
        {
          "output_type": "execute_result",
          "data": {
            "text/html": [
              "<div>\n",
              "<style scoped>\n",
              "    .dataframe tbody tr th:only-of-type {\n",
              "        vertical-align: middle;\n",
              "    }\n",
              "\n",
              "    .dataframe tbody tr th {\n",
              "        vertical-align: top;\n",
              "    }\n",
              "\n",
              "    .dataframe thead th {\n",
              "        text-align: right;\n",
              "    }\n",
              "</style>\n",
              "<table border=\"1\" class=\"dataframe\">\n",
              "  <thead>\n",
              "    <tr style=\"text-align: right;\">\n",
              "      <th></th>\n",
              "      <th>bike</th>\n",
              "      <th>car</th>\n",
              "      <th>electronics</th>\n",
              "      <th>furniture</th>\n",
              "      <th>housing</th>\n",
              "      <th>phone</th>\n",
              "    </tr>\n",
              "    <tr>\n",
              "      <th>UUID</th>\n",
              "      <th></th>\n",
              "      <th></th>\n",
              "      <th></th>\n",
              "      <th></th>\n",
              "      <th></th>\n",
              "      <th></th>\n",
              "    </tr>\n",
              "  </thead>\n",
              "  <tbody>\n",
              "    <tr>\n",
              "      <th>C_fe3d143826f44a8db1072188f5345e8a</th>\n",
              "      <td>0</td>\n",
              "      <td>0</td>\n",
              "      <td>0</td>\n",
              "      <td>0</td>\n",
              "      <td>0</td>\n",
              "      <td>1</td>\n",
              "    </tr>\n",
              "    <tr>\n",
              "      <th>C_4566b2e6938a4a6a8e714e799d780e71</th>\n",
              "      <td>1</td>\n",
              "      <td>0</td>\n",
              "      <td>0</td>\n",
              "      <td>0</td>\n",
              "      <td>0</td>\n",
              "      <td>0</td>\n",
              "    </tr>\n",
              "    <tr>\n",
              "      <th>C_f82ff19f74094889873c8acc58ee582f</th>\n",
              "      <td>0</td>\n",
              "      <td>0</td>\n",
              "      <td>0</td>\n",
              "      <td>0</td>\n",
              "      <td>1</td>\n",
              "      <td>0</td>\n",
              "    </tr>\n",
              "    <tr>\n",
              "      <th>C_15d928e7d3db4380a9d6a9a5e83fcd09</th>\n",
              "      <td>0</td>\n",
              "      <td>0</td>\n",
              "      <td>0</td>\n",
              "      <td>1</td>\n",
              "      <td>0</td>\n",
              "      <td>0</td>\n",
              "    </tr>\n",
              "    <tr>\n",
              "      <th>C_c4e882c43dd746ad994226df5cc24eb7</th>\n",
              "      <td>0</td>\n",
              "      <td>0</td>\n",
              "      <td>0</td>\n",
              "      <td>1</td>\n",
              "      <td>0</td>\n",
              "      <td>0</td>\n",
              "    </tr>\n",
              "    <tr>\n",
              "      <th>...</th>\n",
              "      <td>...</td>\n",
              "      <td>...</td>\n",
              "      <td>...</td>\n",
              "      <td>...</td>\n",
              "      <td>...</td>\n",
              "      <td>...</td>\n",
              "    </tr>\n",
              "    <tr>\n",
              "      <th>C_74c4b8d02b43482886c3455666f7a337</th>\n",
              "      <td>0</td>\n",
              "      <td>1</td>\n",
              "      <td>0</td>\n",
              "      <td>0</td>\n",
              "      <td>0</td>\n",
              "      <td>0</td>\n",
              "    </tr>\n",
              "    <tr>\n",
              "      <th>C_9787bae8d4df4ad8b0fe38efb127b514</th>\n",
              "      <td>0</td>\n",
              "      <td>0</td>\n",
              "      <td>0</td>\n",
              "      <td>1</td>\n",
              "      <td>0</td>\n",
              "      <td>0</td>\n",
              "    </tr>\n",
              "    <tr>\n",
              "      <th>C_e16cf81527b6460f90fabbdffdf16d34</th>\n",
              "      <td>1</td>\n",
              "      <td>0</td>\n",
              "      <td>0</td>\n",
              "      <td>0</td>\n",
              "      <td>0</td>\n",
              "      <td>0</td>\n",
              "    </tr>\n",
              "    <tr>\n",
              "      <th>C_0055bcaeb06440baac997569dafd603a</th>\n",
              "      <td>0</td>\n",
              "      <td>0</td>\n",
              "      <td>0</td>\n",
              "      <td>1</td>\n",
              "      <td>0</td>\n",
              "      <td>0</td>\n",
              "    </tr>\n",
              "    <tr>\n",
              "      <th>C_82b4463df03d4d53b1b94e69559eca55</th>\n",
              "      <td>0</td>\n",
              "      <td>0</td>\n",
              "      <td>0</td>\n",
              "      <td>0</td>\n",
              "      <td>1</td>\n",
              "      <td>0</td>\n",
              "    </tr>\n",
              "  </tbody>\n",
              "</table>\n",
              "<p>5247 rows × 6 columns</p>\n",
              "</div>"
            ],
            "text/plain": [
              "                                    bike  car  ...  housing  phone\n",
              "UUID                                           ...                \n",
              "C_fe3d143826f44a8db1072188f5345e8a     0    0  ...        0      1\n",
              "C_4566b2e6938a4a6a8e714e799d780e71     1    0  ...        0      0\n",
              "C_f82ff19f74094889873c8acc58ee582f     0    0  ...        1      0\n",
              "C_15d928e7d3db4380a9d6a9a5e83fcd09     0    0  ...        0      0\n",
              "C_c4e882c43dd746ad994226df5cc24eb7     0    0  ...        0      0\n",
              "...                                  ...  ...  ...      ...    ...\n",
              "C_74c4b8d02b43482886c3455666f7a337     0    1  ...        0      0\n",
              "C_9787bae8d4df4ad8b0fe38efb127b514     0    0  ...        0      0\n",
              "C_e16cf81527b6460f90fabbdffdf16d34     1    0  ...        0      0\n",
              "C_0055bcaeb06440baac997569dafd603a     0    0  ...        0      0\n",
              "C_82b4463df03d4d53b1b94e69559eca55     0    0  ...        1      0\n",
              "\n",
              "[5247 rows x 6 columns]"
            ]
          },
          "metadata": {
            "tags": []
          },
          "execution_count": 6
        }
      ]
    },
    {
      "cell_type": "code",
      "metadata": {
        "id": "3MybrSw8ogbE",
        "colab": {
          "base_uri": "https://localhost:8080/",
          "height": 1000
        },
        "outputId": "0a7577be-6ae5-4e96-8e82-ea2d5627e40f"
      },
      "source": [
        "fe_cleaned_data_df = pd.concat([cleaned_data_df, categories_onehot], axis=1, join='inner')\n",
        "fe_cleaned_data_df"
      ],
      "execution_count": null,
      "outputs": [
        {
          "output_type": "execute_result",
          "data": {
            "text/html": [
              "<div>\n",
              "<style scoped>\n",
              "    .dataframe tbody tr th:only-of-type {\n",
              "        vertical-align: middle;\n",
              "    }\n",
              "\n",
              "    .dataframe tbody tr th {\n",
              "        vertical-align: top;\n",
              "    }\n",
              "\n",
              "    .dataframe thead th {\n",
              "        text-align: right;\n",
              "    }\n",
              "</style>\n",
              "<table border=\"1\" class=\"dataframe\">\n",
              "  <thead>\n",
              "    <tr style=\"text-align: right;\">\n",
              "      <th></th>\n",
              "      <th>Category</th>\n",
              "      <th>Title</th>\n",
              "      <th>Title_len</th>\n",
              "      <th>Description</th>\n",
              "      <th>Description_len</th>\n",
              "      <th>Listed_price</th>\n",
              "      <th>Image_file</th>\n",
              "      <th>Image_indicator</th>\n",
              "      <th>Num_messages</th>\n",
              "      <th>Outcome</th>\n",
              "      <th>Final_price</th>\n",
              "      <th>bike</th>\n",
              "      <th>car</th>\n",
              "      <th>electronics</th>\n",
              "      <th>furniture</th>\n",
              "      <th>housing</th>\n",
              "      <th>phone</th>\n",
              "    </tr>\n",
              "    <tr>\n",
              "      <th>UUID</th>\n",
              "      <th></th>\n",
              "      <th></th>\n",
              "      <th></th>\n",
              "      <th></th>\n",
              "      <th></th>\n",
              "      <th></th>\n",
              "      <th></th>\n",
              "      <th></th>\n",
              "      <th></th>\n",
              "      <th></th>\n",
              "      <th></th>\n",
              "      <th></th>\n",
              "      <th></th>\n",
              "      <th></th>\n",
              "      <th></th>\n",
              "      <th></th>\n",
              "      <th></th>\n",
              "    </tr>\n",
              "  </thead>\n",
              "  <tbody>\n",
              "    <tr>\n",
              "      <th>C_fe3d143826f44a8db1072188f5345e8a</th>\n",
              "      <td>phone</td>\n",
              "      <td>Verizon Car Charger with Dual Output Micro USB...</td>\n",
              "      <td>60</td>\n",
              "      <td>Charge two devices simultaneously on the go. T...</td>\n",
              "      <td>520</td>\n",
              "      <td>10</td>\n",
              "      <td>'phone/6149527852_0.jpg'</td>\n",
              "      <td>1</td>\n",
              "      <td>7</td>\n",
              "      <td>1</td>\n",
              "      <td>7</td>\n",
              "      <td>0</td>\n",
              "      <td>0</td>\n",
              "      <td>0</td>\n",
              "      <td>0</td>\n",
              "      <td>0</td>\n",
              "      <td>1</td>\n",
              "    </tr>\n",
              "    <tr>\n",
              "      <th>C_4566b2e6938a4a6a8e714e799d780e71</th>\n",
              "      <td>bike</td>\n",
              "      <td>Long board custom bilt from the board up</td>\n",
              "      <td>40</td>\n",
              "      <td>Hey there cl I have a long board for sale pret...</td>\n",
              "      <td>316</td>\n",
              "      <td>200</td>\n",
              "      <td>'bike/6151236842_0.jpg'</td>\n",
              "      <td>1</td>\n",
              "      <td>11</td>\n",
              "      <td>1</td>\n",
              "      <td>145</td>\n",
              "      <td>1</td>\n",
              "      <td>0</td>\n",
              "      <td>0</td>\n",
              "      <td>0</td>\n",
              "      <td>0</td>\n",
              "      <td>0</td>\n",
              "    </tr>\n",
              "    <tr>\n",
              "      <th>C_f82ff19f74094889873c8acc58ee582f</th>\n",
              "      <td>housing</td>\n",
              "      <td>A 4 bedroom single family house for rent in ce...</td>\n",
              "      <td>59</td>\n",
              "      <td>This is a single family house in an excellent ...</td>\n",
              "      <td>706</td>\n",
              "      <td>3200</td>\n",
              "      <td></td>\n",
              "      <td>0</td>\n",
              "      <td>8</td>\n",
              "      <td>1</td>\n",
              "      <td>1900</td>\n",
              "      <td>0</td>\n",
              "      <td>0</td>\n",
              "      <td>0</td>\n",
              "      <td>0</td>\n",
              "      <td>1</td>\n",
              "      <td>0</td>\n",
              "    </tr>\n",
              "    <tr>\n",
              "      <th>C_15d928e7d3db4380a9d6a9a5e83fcd09</th>\n",
              "      <td>furniture</td>\n",
              "      <td>Sectional Couch</td>\n",
              "      <td>15</td>\n",
              "      <td>I am remodeling my space and selling a beautif...</td>\n",
              "      <td>357</td>\n",
              "      <td>585</td>\n",
              "      <td>'furniture/6131245434_0.jpg'</td>\n",
              "      <td>1</td>\n",
              "      <td>4</td>\n",
              "      <td>0</td>\n",
              "      <td>na</td>\n",
              "      <td>0</td>\n",
              "      <td>0</td>\n",
              "      <td>0</td>\n",
              "      <td>1</td>\n",
              "      <td>0</td>\n",
              "      <td>0</td>\n",
              "    </tr>\n",
              "    <tr>\n",
              "      <th>C_c4e882c43dd746ad994226df5cc24eb7</th>\n",
              "      <td>furniture</td>\n",
              "      <td>Beautiful Cherry Hutch</td>\n",
              "      <td>22</td>\n",
              "      <td>MUST SEE!!!. Like new ! - making space in our ...</td>\n",
              "      <td>252</td>\n",
              "      <td>1000</td>\n",
              "      <td>'furniture/6144504669_0.jpg'</td>\n",
              "      <td>1</td>\n",
              "      <td>2</td>\n",
              "      <td>0</td>\n",
              "      <td>na</td>\n",
              "      <td>0</td>\n",
              "      <td>0</td>\n",
              "      <td>0</td>\n",
              "      <td>1</td>\n",
              "      <td>0</td>\n",
              "      <td>0</td>\n",
              "    </tr>\n",
              "    <tr>\n",
              "      <th>...</th>\n",
              "      <td>...</td>\n",
              "      <td>...</td>\n",
              "      <td>...</td>\n",
              "      <td>...</td>\n",
              "      <td>...</td>\n",
              "      <td>...</td>\n",
              "      <td>...</td>\n",
              "      <td>...</td>\n",
              "      <td>...</td>\n",
              "      <td>...</td>\n",
              "      <td>...</td>\n",
              "      <td>...</td>\n",
              "      <td>...</td>\n",
              "      <td>...</td>\n",
              "      <td>...</td>\n",
              "      <td>...</td>\n",
              "      <td>...</td>\n",
              "    </tr>\n",
              "    <tr>\n",
              "      <th>C_74c4b8d02b43482886c3455666f7a337</th>\n",
              "      <td>car</td>\n",
              "      <td>***VERY CLEAN 2011 FORD FUSION HYBRID - 76K MI...</td>\n",
              "      <td>70</td>\n",
              "      <td>Nice clean Hybrid sedan,  well maintained and ...</td>\n",
              "      <td>322</td>\n",
              "      <td>7995</td>\n",
              "      <td>'car/6133252812_0.jpg'</td>\n",
              "      <td>1</td>\n",
              "      <td>10</td>\n",
              "      <td>1</td>\n",
              "      <td>6000</td>\n",
              "      <td>0</td>\n",
              "      <td>1</td>\n",
              "      <td>0</td>\n",
              "      <td>0</td>\n",
              "      <td>0</td>\n",
              "      <td>0</td>\n",
              "    </tr>\n",
              "    <tr>\n",
              "      <th>C_9787bae8d4df4ad8b0fe38efb127b514</th>\n",
              "      <td>furniture</td>\n",
              "      <td>Herman Miller Aeron Chair Size C</td>\n",
              "      <td>32</td>\n",
              "      <td>herman miller aeron chair. good shape. in stor...</td>\n",
              "      <td>169</td>\n",
              "      <td>350</td>\n",
              "      <td>'furniture/6125199031_0.jpg'</td>\n",
              "      <td>1</td>\n",
              "      <td>7</td>\n",
              "      <td>1</td>\n",
              "      <td>250</td>\n",
              "      <td>0</td>\n",
              "      <td>0</td>\n",
              "      <td>0</td>\n",
              "      <td>1</td>\n",
              "      <td>0</td>\n",
              "      <td>0</td>\n",
              "    </tr>\n",
              "    <tr>\n",
              "      <th>C_e16cf81527b6460f90fabbdffdf16d34</th>\n",
              "      <td>bike</td>\n",
              "      <td>Bike for sale!</td>\n",
              "      <td>14</td>\n",
              "      <td>Hey there! I am leaving the bay area in a mont...</td>\n",
              "      <td>180</td>\n",
              "      <td>150</td>\n",
              "      <td></td>\n",
              "      <td>0</td>\n",
              "      <td>9</td>\n",
              "      <td>1</td>\n",
              "      <td>130</td>\n",
              "      <td>1</td>\n",
              "      <td>0</td>\n",
              "      <td>0</td>\n",
              "      <td>0</td>\n",
              "      <td>0</td>\n",
              "      <td>0</td>\n",
              "    </tr>\n",
              "    <tr>\n",
              "      <th>C_0055bcaeb06440baac997569dafd603a</th>\n",
              "      <td>furniture</td>\n",
              "      <td>Pair of Mid Century Lamps</td>\n",
              "      <td>25</td>\n",
              "      <td>Selling a pair of Mid Century lamps with origi...</td>\n",
              "      <td>176</td>\n",
              "      <td>40</td>\n",
              "      <td>'furniture/6111846027_0.jpg'</td>\n",
              "      <td>1</td>\n",
              "      <td>9</td>\n",
              "      <td>1</td>\n",
              "      <td>40</td>\n",
              "      <td>0</td>\n",
              "      <td>0</td>\n",
              "      <td>0</td>\n",
              "      <td>1</td>\n",
              "      <td>0</td>\n",
              "      <td>0</td>\n",
              "    </tr>\n",
              "    <tr>\n",
              "      <th>C_82b4463df03d4d53b1b94e69559eca55</th>\n",
              "      <td>housing</td>\n",
              "      <td>2414 Telegraph, Studio,Building Has Style,  Ha...</td>\n",
              "      <td>65</td>\n",
              "      <td>Year lease. Cats Allowed (Extra deposit may be...</td>\n",
              "      <td>137</td>\n",
              "      <td>2025</td>\n",
              "      <td>'housing/6093602805_0.jpg'</td>\n",
              "      <td>1</td>\n",
              "      <td>10</td>\n",
              "      <td>1</td>\n",
              "      <td>1800</td>\n",
              "      <td>0</td>\n",
              "      <td>0</td>\n",
              "      <td>0</td>\n",
              "      <td>0</td>\n",
              "      <td>1</td>\n",
              "      <td>0</td>\n",
              "    </tr>\n",
              "  </tbody>\n",
              "</table>\n",
              "<p>5247 rows × 17 columns</p>\n",
              "</div>"
            ],
            "text/plain": [
              "                                     Category  ... phone\n",
              "UUID                                           ...      \n",
              "C_fe3d143826f44a8db1072188f5345e8a      phone  ...     1\n",
              "C_4566b2e6938a4a6a8e714e799d780e71       bike  ...     0\n",
              "C_f82ff19f74094889873c8acc58ee582f    housing  ...     0\n",
              "C_15d928e7d3db4380a9d6a9a5e83fcd09  furniture  ...     0\n",
              "C_c4e882c43dd746ad994226df5cc24eb7  furniture  ...     0\n",
              "...                                       ...  ...   ...\n",
              "C_74c4b8d02b43482886c3455666f7a337        car  ...     0\n",
              "C_9787bae8d4df4ad8b0fe38efb127b514  furniture  ...     0\n",
              "C_e16cf81527b6460f90fabbdffdf16d34       bike  ...     0\n",
              "C_0055bcaeb06440baac997569dafd603a  furniture  ...     0\n",
              "C_82b4463df03d4d53b1b94e69559eca55    housing  ...     0\n",
              "\n",
              "[5247 rows x 17 columns]"
            ]
          },
          "metadata": {
            "tags": []
          },
          "execution_count": 7
        }
      ]
    },
    {
      "cell_type": "markdown",
      "metadata": {
        "id": "FSXgWzJetC1T"
      },
      "source": [
        "###2.2 Feature selection"
      ]
    },
    {
      "cell_type": "markdown",
      "metadata": {
        "id": "n37vJvb3V513"
      },
      "source": [
        "####2.2.1 All non-text features"
      ]
    },
    {
      "cell_type": "code",
      "metadata": {
        "id": "80lIH3hrqfW0"
      },
      "source": [
        "X = fe_cleaned_data_df[['bike','car','electronics','furniture','housing','phone','Title_len', 'Description_len', 'Image_indicator','Listed_price', 'Num_messages']]\n",
        "y = fe_cleaned_data_df['Outcome']"
      ],
      "execution_count": null,
      "outputs": []
    },
    {
      "cell_type": "markdown",
      "metadata": {
        "id": "BvZcJy2kWA8S"
      },
      "source": [
        "####2.2.2 Only num_messages"
      ]
    },
    {
      "cell_type": "code",
      "metadata": {
        "id": "unwoVJiMWefW"
      },
      "source": [
        "X_num_m = fe_cleaned_data_df[['Num_messages']]"
      ],
      "execution_count": null,
      "outputs": []
    },
    {
      "cell_type": "code",
      "metadata": {
        "colab": {
          "base_uri": "https://localhost:8080/",
          "height": 318
        },
        "id": "gkjsbPS72IzV",
        "outputId": "8cb57f1c-3b02-4e7e-abf4-8a18003a2e6f"
      },
      "source": [
        "fe_cleaned_data_df.boxplot(column=['Num_messages'], by=['Outcome'],vert=False)"
      ],
      "execution_count": null,
      "outputs": [
        {
          "output_type": "execute_result",
          "data": {
            "text/plain": [
              "<matplotlib.axes._subplots.AxesSubplot at 0x7fa4d783f780>"
            ]
          },
          "metadata": {
            "tags": []
          },
          "execution_count": 61
        },
        {
          "output_type": "display_data",
          "data": {
            "image/png": "[encoded data removed]",
            "text/plain": [
              "<Figure size 432x288 with 1 Axes>"
            ]
          },
          "metadata": {
            "tags": [],
            "needs_background": "light"
          }
        }
      ]
    },
    {
      "cell_type": "markdown",
      "metadata": {
        "id": "Z6zsbY6osgsZ"
      },
      "source": [
        "###2.3 Train-test split"
      ]
    },
    {
      "cell_type": "code",
      "metadata": {
        "id": "mbtrILZJtJII"
      },
      "source": [
        "x_train, x_test, y_train, y_test = train_test_split(X, y, test_size=0.10, random_state=2)\n",
        "x_train_nm, x_test_nm, y_train, y_test = train_test_split(X_num_m, y, test_size=0.10, random_state=2)\n",
        "x_train_nm = x_train_nm.values.reshape(-1, 1)\n",
        "x_test_nm = x_test_nm.values.reshape(-1, 1)"
      ],
      "execution_count": null,
      "outputs": []
    },
    {
      "cell_type": "markdown",
      "metadata": {
        "id": "ltl7LxzM5Wrt"
      },
      "source": [
        "###2.4 Saving data-set to CSV"
      ]
    },
    {
      "cell_type": "code",
      "metadata": {
        "id": "1BQMR6kW5ICW"
      },
      "source": [
        "# X.to_csv('X.csv')\n",
        "# !cp X.csv \"drive/My Drive/\"\n",
        "# y.to_csv('y.csv')\n",
        "# !cp y.csv \"drive/My Drive/\""
      ],
      "execution_count": null,
      "outputs": []
    },
    {
      "cell_type": "markdown",
      "metadata": {
        "id": "xAiVZv5NsbLy"
      },
      "source": [
        "#3 Machine learning"
      ]
    },
    {
      "cell_type": "markdown",
      "metadata": {
        "id": "rXrlce6wtaZm"
      },
      "source": [
        "###3.1 Establishing baseline accuracy"
      ]
    },
    {
      "cell_type": "code",
      "metadata": {
        "colab": {
          "base_uri": "https://localhost:8080/"
        },
        "id": "jy-aZvGusACQ",
        "outputId": "2b1bd877-8346-4563-befd-256925714fc1"
      },
      "source": [
        "baseline = y_test.mean()\n",
        "print(baseline)"
      ],
      "execution_count": null,
      "outputs": [
        {
          "output_type": "stream",
          "text": [
            "0.72\n"
          ],
          "name": "stdout"
        }
      ]
    },
    {
      "cell_type": "code",
      "metadata": {
        "colab": {
          "base_uri": "https://localhost:8080/"
        },
        "id": "dBr2FNUi6Cld",
        "outputId": "3938bddb-da5d-4c9e-a303-7ab01d21c195"
      },
      "source": [
        "label_1 = [1 for elem in y_test if elem == 1]\n",
        "label_1 = len(label_1)\n",
        "label_0 = len(y_test) - label_1\n",
        "#Accuracy for an all 1 prediction\n",
        "acc = label_1/(label_1+label_0)\n",
        "print(\"Samples with Label=1: \", label_1)\n",
        "print(\"Total samples in y_test: \", len(y_test))\n",
        "print(\"Accuracy of an all 1 prediction: \", acc)"
      ],
      "execution_count": null,
      "outputs": [
        {
          "output_type": "stream",
          "text": [
            "Samples with Label=1:  378\n",
            "Total samples in y_test:  525\n",
            "Accuracy of an all 1 prediction:  0.72\n"
          ],
          "name": "stdout"
        }
      ]
    },
    {
      "cell_type": "markdown",
      "metadata": {
        "id": "ruPWcMPVtdWj"
      },
      "source": [
        "###3.2 Logistic regression using non-text fields"
      ]
    },
    {
      "cell_type": "markdown",
      "metadata": {
        "id": "ZxyTzEoA0lME"
      },
      "source": [
        "####3.2.1 Without scaling and PCA"
      ]
    },
    {
      "cell_type": "code",
      "metadata": {
        "colab": {
          "base_uri": "https://localhost:8080/"
        },
        "id": "L_1vHME_tiyM",
        "outputId": "be5483ac-e17c-476d-d37e-6191c074d10a"
      },
      "source": [
        "clf_lr = LogisticRegression(random_state=0, max_iter=500).fit(x_train, y_train)\n",
        "predictions_lr = clf_lr.predict(x_test)\n",
        "score_lr = clf_lr.score(x_test, y_test)\n",
        "print(round(score_lr*100, 1))\n",
        "cm_lr = metrics.confusion_matrix(y_test, predictions_lr)\n",
        "print(cm_lr)"
      ],
      "execution_count": null,
      "outputs": [
        {
          "output_type": "stream",
          "text": [
            "84.6\n",
            "[[ 84  63]\n",
            " [ 18 360]]\n"
          ],
          "name": "stdout"
        }
      ]
    },
    {
      "cell_type": "code",
      "metadata": {
        "colab": {
          "base_uri": "https://localhost:8080/",
          "height": 520
        },
        "id": "ps_2rNL5vtPJ",
        "outputId": "2786bf3a-7e3a-4f75-c76c-cb90b8587607"
      },
      "source": [
        "plt.figure(figsize=(9,9))\n",
        "sns.heatmap(cm_lr, annot=True, fmt=\".0f\", linewidths=.5, square = True, cmap = 'Blues_r');\n",
        "plt.ylabel('Actual label');\n",
        "plt.xlabel('Predicted label');\n",
        "all_sample_title = 'Accuracy Score: {0}'.format(score_lr)\n",
        "plt.title(all_sample_title, size = 15);"
      ],
      "execution_count": null,
      "outputs": [
        {
          "output_type": "display_data",
          "data": {
            "image/png": "[encoded data removed]",
            "text/plain": [
              "<Figure size 648x648 with 2 Axes>"
            ]
          },
          "metadata": {
            "tags": [],
            "needs_background": "light"
          }
        }
      ]
    },
    {
      "cell_type": "markdown",
      "metadata": {
        "id": "f4Xj60sO0qNc"
      },
      "source": [
        "####3.2.2 With scaling and PCA"
      ]
    },
    {
      "cell_type": "code",
      "metadata": {
        "colab": {
          "base_uri": "https://localhost:8080/",
          "height": 299
        },
        "id": "dHidkqOMzIgy",
        "outputId": "3a907e8f-d3b7-408e-f935-e80119578bfe"
      },
      "source": [
        "scaler = StandardScaler()\n",
        "scaler.fit(x_train)\n",
        "x_train_scaled = scaler.transform(x_train)\n",
        "x_test_scaled = scaler.transform(x_test)\n",
        "pca = PCA(n_components=11)\n",
        "pca.fit(x_train_scaled)\n",
        "print(np.cumsum(pca.explained_variance_ratio_))\n",
        "plt.plot(np.cumsum(pca.explained_variance_ratio_))\n",
        "plt.show()"
      ],
      "execution_count": null,
      "outputs": [
        {
          "output_type": "stream",
          "text": [
            "[0.18451362 0.35142229 0.46994955 0.58396191 0.68849529 0.77891237\n",
            " 0.85446065 0.9185157  0.97358883 1.         1.        ]\n"
          ],
          "name": "stdout"
        },
        {
          "output_type": "display_data",
          "data": {
            "image/png": "[encoded data removed]",
            "text/plain": [
              "<Figure size 432x288 with 1 Axes>"
            ]
          },
          "metadata": {
            "tags": [],
            "needs_background": "light"
          }
        }
      ]
    },
    {
      "cell_type": "code",
      "metadata": {
        "id": "KrCFvt080Hhg"
      },
      "source": [
        "pca = PCA(n_components=9)\n",
        "x_train2 = pca.fit_transform(x_train_scaled)\n",
        "x_test2= pca.fit_transform(x_test_scaled)"
      ],
      "execution_count": null,
      "outputs": []
    },
    {
      "cell_type": "code",
      "metadata": {
        "colab": {
          "base_uri": "https://localhost:8080/"
        },
        "id": "uwI3WoWS0jY8",
        "outputId": "7bcc55d1-4e9b-435e-89db-b529ab6c5f7d"
      },
      "source": [
        "clf_lr = LogisticRegression(random_state=0).fit(x_train2, y_train)\n",
        "predictions_lr = clf_lr.predict(x_test2)\n",
        "score_lr = clf_lr.score(x_test2, y_test)\n",
        "print(round(score_lr*100, 1))\n",
        "cm_lr = metrics.confusion_matrix(y_test, predictions_lr)\n",
        "print(cm_lr)"
      ],
      "execution_count": null,
      "outputs": [
        {
          "output_type": "stream",
          "text": [
            "69.3\n",
            "[[ 34 113]\n",
            " [ 48 330]]\n"
          ],
          "name": "stdout"
        }
      ]
    },
    {
      "cell_type": "markdown",
      "metadata": {
        "id": "11OyEZr-3i4F"
      },
      "source": [
        "####3.3.3 Using oversampling"
      ]
    },
    {
      "cell_type": "code",
      "metadata": {
        "colab": {
          "base_uri": "https://localhost:8080/"
        },
        "id": "Rs91hKT63ojq",
        "outputId": "fbb19b24-ac6a-4c49-a3b8-ae28336c0bdd"
      },
      "source": [
        "ros = RandomOverSampler(random_state=42)\n",
        "x_res, y_res = ros.fit_resample(x_train2, y_train)"
      ],
      "execution_count": null,
      "outputs": [
        {
          "output_type": "stream",
          "text": [
            "/usr/local/lib/python3.6/dist-packages/sklearn/utils/deprecation.py:87: FutureWarning: Function safe_indexing is deprecated; safe_indexing is deprecated in version 0.22 and will be removed in version 0.24.\n",
            "  warnings.warn(msg, category=FutureWarning)\n"
          ],
          "name": "stderr"
        }
      ]
    },
    {
      "cell_type": "code",
      "metadata": {
        "colab": {
          "base_uri": "https://localhost:8080/"
        },
        "id": "Y8UiCecC37PO",
        "outputId": "2bd74c73-a2b6-4adb-a0c5-0afd51826cb0"
      },
      "source": [
        "print(x_res.shape)\n",
        "print(y_res.shape)"
      ],
      "execution_count": null,
      "outputs": [
        {
          "output_type": "stream",
          "text": [
            "(7076, 9)\n",
            "(7076,)\n"
          ],
          "name": "stdout"
        }
      ]
    },
    {
      "cell_type": "code",
      "metadata": {
        "colab": {
          "base_uri": "https://localhost:8080/"
        },
        "id": "ddVkTqYA4C6y",
        "outputId": "cd7d440a-4bb7-411c-8145-9106d4cad245"
      },
      "source": [
        "clf_lro = LogisticRegression(random_state=0).fit(x_res, y_res)\n",
        "predictions_lro = clf_lro.predict(x_test2)\n",
        "score_lro = clf_lro.score(x_test2, y_test)\n",
        "print(round(score_lro*100, 1))\n",
        "cm_lro = metrics.confusion_matrix(y_test, predictions_lr)\n",
        "print(cm_lro)"
      ],
      "execution_count": null,
      "outputs": [
        {
          "output_type": "stream",
          "text": [
            "63.0\n",
            "[[ 34 113]\n",
            " [ 48 330]]\n"
          ],
          "name": "stdout"
        }
      ]
    },
    {
      "cell_type": "markdown",
      "metadata": {
        "id": "Yen7qFZlwVUJ"
      },
      "source": [
        "##3.3 Random forest"
      ]
    },
    {
      "cell_type": "markdown",
      "metadata": {
        "id": "ygubzz1BWy5c"
      },
      "source": [
        "####3.3.1 All non-text features"
      ]
    },
    {
      "cell_type": "code",
      "metadata": {
        "colab": {
          "base_uri": "https://localhost:8080/"
        },
        "id": "SxbLm3DcwUXc",
        "outputId": "fabf2b4b-a8a6-4560-e7fb-97a19d9dff01"
      },
      "source": [
        "clf_rf = RandomForestClassifier(max_depth=4, n_estimators=50, random_state=0).fit(x_train, y_train)\n",
        "predictions_rf = clf_rf.predict(x_test)\n",
        "score_rf = clf_rf.score(x_test, y_test)\n",
        "print(round(score_rf*100, 1))\n",
        "cm_rf = metrics.confusion_matrix(y_test, predictions_rf)\n",
        "print(cm_rf)"
      ],
      "execution_count": null,
      "outputs": [
        {
          "output_type": "stream",
          "text": [
            "85.7\n",
            "[[ 90  57]\n",
            " [ 18 360]]\n"
          ],
          "name": "stdout"
        }
      ]
    },
    {
      "cell_type": "markdown",
      "metadata": {
        "id": "YNl-FTJxW0dx"
      },
      "source": [
        "####3.3.2 Only num_messages"
      ]
    },
    {
      "cell_type": "code",
      "metadata": {
        "colab": {
          "base_uri": "https://localhost:8080/"
        },
        "id": "UwKS_qddW30m",
        "outputId": "de3eacaf-9bb6-44f8-8b97-6fda1350fb1d"
      },
      "source": [
        "clf_rf = RandomForestClassifier(max_depth=4, n_estimators=50, random_state=0).fit(x_train_nm, y_train)\n",
        "predictions_rf = clf_rf.predict(x_test_nm)\n",
        "score_rf = clf_rf.score(x_test_nm, y_test)\n",
        "print(round(score_rf*100, 1))\n",
        "cm_rf = metrics.confusion_matrix(y_test, predictions_rf)\n",
        "print(cm_rf)"
      ],
      "execution_count": null,
      "outputs": [
        {
          "output_type": "stream",
          "text": [
            "86.1\n",
            "[[ 92  55]\n",
            " [ 18 360]]\n"
          ],
          "name": "stdout"
        }
      ]
    },
    {
      "cell_type": "markdown",
      "metadata": {
        "id": "ZqOf00_v1DO_"
      },
      "source": [
        "##3.4 Gradient-tree boosting"
      ]
    },
    {
      "cell_type": "markdown",
      "metadata": {
        "id": "roID50cfsk5d"
      },
      "source": [
        "####3.4.1 All non-text features\n",
        "\n"
      ]
    },
    {
      "cell_type": "code",
      "metadata": {
        "colab": {
          "base_uri": "https://localhost:8080/"
        },
        "id": "C6LyMnfQ1IDO",
        "outputId": "ed4e785f-3532-476b-fb1b-e43e84d30a50"
      },
      "source": [
        "clf_gtb = GradientBoostingClassifier(random_state=0).fit(x_train, y_train)\n",
        "predictions_gtb = clf_gtb.predict(x_test)\n",
        "score_gtb = clf_gtb.score(x_test, y_test)\n",
        "print(round(score_gtb*100, 1))\n",
        "cm_gtb = metrics.confusion_matrix(y_test, predictions_rf)\n",
        "print(cm_gtb)"
      ],
      "execution_count": null,
      "outputs": [
        {
          "output_type": "stream",
          "text": [
            "86.3\n",
            "[[ 92  55]\n",
            " [ 18 360]]\n"
          ],
          "name": "stdout"
        }
      ]
    },
    {
      "cell_type": "markdown",
      "metadata": {
        "id": "Gn0rGjkkso-t"
      },
      "source": [
        "####3.4.2 Only num_messages"
      ]
    },
    {
      "cell_type": "code",
      "metadata": {
        "colab": {
          "base_uri": "https://localhost:8080/"
        },
        "id": "zQ0q6ERXsv3P",
        "outputId": "0ac66770-5ef9-4754-f6f7-fcc73fc7591b"
      },
      "source": [
        "clf_gtb = GradientBoostingClassifier(random_state=0).fit(x_train_nm, y_train)\n",
        "predictions_gtb = clf_gtb.predict(x_test_nm)\n",
        "score_gtb = clf_gtb.score(x_test_nm, y_test)\n",
        "print(round(score_gtb*100, 1))\n",
        "cm_gtb = metrics.confusion_matrix(y_test, predictions_rf)\n",
        "print(cm_gtb)"
      ],
      "execution_count": null,
      "outputs": [
        {
          "output_type": "stream",
          "text": [
            "86.1\n",
            "[[ 92  55]\n",
            " [ 18 360]]\n"
          ],
          "name": "stdout"
        }
      ]
    }
  ]
}